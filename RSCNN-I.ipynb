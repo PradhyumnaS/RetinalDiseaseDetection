{
 "cells": [
  {
   "cell_type": "code",
   "execution_count": null,
   "metadata": {
    "colab": {
     "base_uri": "https://localhost:8080/"
    },
    "collapsed": true,
    "executionInfo": {
     "elapsed": 22857,
     "status": "ok",
     "timestamp": 1728659768838,
     "user": {
      "displayName": "1DS22IS105 Pradhyumna S",
      "userId": "11389522700949652190"
     },
     "user_tz": -330
    },
    "id": "1F0Z_GKXMm9F",
    "outputId": "ddde97f6-3e0b-42ce-f52d-c1ca1d39e36a"
   },
   "outputs": [],
   "source": [
    "from google.colab import drive\n",
    "drive.mount('/content/drive')"
   ]
  },
  {
   "cell_type": "code",
   "execution_count": null,
   "metadata": {
    "colab": {
     "base_uri": "https://localhost:8080/"
    },
    "collapsed": true,
    "executionInfo": {
     "elapsed": 10336,
     "status": "ok",
     "timestamp": 1728659779169,
     "user": {
      "displayName": "1DS22IS105 Pradhyumna S",
      "userId": "11389522700949652190"
     },
     "user_tz": -330
    },
    "id": "X9PYYKaYRRzB",
    "outputId": "a946514d-8954-42aa-ab1f-f83443fad1aa"
   },
   "outputs": [],
   "source": [
    "!pip install efficientnet_pytorch\n"
   ]
  },
  {
   "cell_type": "code",
   "execution_count": null,
   "metadata": {
    "colab": {
     "base_uri": "https://localhost:8080/"
    },
    "collapsed": true,
    "executionInfo": {
     "elapsed": 827,
     "status": "ok",
     "timestamp": 1728661203409,
     "user": {
      "displayName": "1DS22IS105 Pradhyumna S",
      "userId": "11389522700949652190"
     },
     "user_tz": -330
    },
    "id": "f_juXBYGOERy",
    "outputId": "50660cbe-ba2a-43d3-a5b5-1ce71173f438"
   },
   "outputs": [],
   "source": [
    "import torch\n",
    "import torch.nn as nn\n",
    "from efficientnet_pytorch import EfficientNet\n",
    "import torch.optim as optim\n",
    "\n",
    "class EfficientNetB0(nn.Module):\n",
    "    def __init__(self, num_classes=4):\n",
    "        super(EfficientNetB0, self).__init__()\n",
    "        self.model = EfficientNet.from_pretrained('efficientnet-b0')\n",
    "        in_features = self.model._fc.in_features\n",
    "        self.model._fc = nn.Linear(in_features, num_classes)\n",
    "\n",
    "    def forward(self, x):\n",
    "        return self.model(x)\n",
    "\n",
    "model = EfficientNetB0(num_classes=4)\n",
    "model_path = '/content/drive/My Drive/models/RSCNN/Eff_Net.pth'\n",
    "model.load_state_dict(torch.load(model_path, map_location=torch.device(\"cpu\")))\n",
    "\n",
    "device = torch.device(\"cuda\" if torch.cuda.is_available() else \"cpu\")\n",
    "model.to(device)\n"
   ]
  },
  {
   "cell_type": "code",
   "execution_count": null,
   "metadata": {
    "colab": {
     "base_uri": "https://localhost:8080/",
     "height": 120,
     "referenced_widgets": [
      "948c1ebd6cbe453d863f7bf310b57100",
      "ef266239300f47c2b86a8d7d5ac1b428",
      "8f1cf2bf4b4146c09ec1de7451ffef68"
     ]
    },
    "executionInfo": {
     "elapsed": 452,
     "status": "ok",
     "timestamp": 1728662455679,
     "user": {
      "displayName": "1DS22IS105 Pradhyumna S",
      "userId": "11389522700949652190"
     },
     "user_tz": -330
    },
    "id": "9gChKfWLUIab",
    "outputId": "0d465664-bfdd-41ed-f932-ce0acbd78f7c"
   },
   "outputs": [],
   "source": [
    "import torch\n",
    "from torchvision import transforms\n",
    "from PIL import Image\n",
    "import ipywidgets as widgets\n",
    "from IPython.display import display\n",
    "import io\n",
    "\n",
    "transform = transforms.Compose([\n",
    "    transforms.Resize((224, 224)),\n",
    "    transforms.ToTensor(),\n",
    "    transforms.Normalize(mean=[0.485, 0.456, 0.406], std=[0.229, 0.224, 0.225])\n",
    "])\n",
    "\n",
    "class_to_idx = {0: 'Normal', 1: 'Diabetic Retinopathy', 2: 'Macular Degeneration', 3: 'Drusen'}\n",
    "def on_upload_change(change):\n",
    "    image_file = next(iter(uploaded_image.value.values()))\n",
    "    image = Image.open(io.BytesIO(image_file['content'])).convert(\"RGB\")\n",
    "    input_image = transform(image).unsqueeze(0)\n",
    "\n",
    "    input_image = input_image.to(device)\n",
    "\n",
    "    model.eval()\n",
    "\n",
    "    with torch.no_grad():\n",
    "        outputs = model(input_image)\n",
    "\n",
    "    _, predicted = torch.max(outputs, 1)\n",
    "    class_index = predicted.item()\n",
    "\n",
    "    predicted_class_name = class_to_idx.get(class_index, \"Unknown\")\n",
    "\n",
    "    print(f'Predicted Class Index: {class_index}')\n",
    "    print(f'Predicted Class Name: {predicted_class_name}')\n",
    "\n",
    "uploaded_image = widgets.FileUpload(\n",
    "    accept='image/*',\n",
    "    multiple=False\n",
    ")\n",
    "\n",
    "uploaded_image.observe(on_upload_change, names='value')\n",
    "display(uploaded_image)\n"
   ]
  }
 ],
 "metadata": {
  "colab": {
   "authorship_tag": "ABX9TyNcHu415V95Ps+ks7kGjIJ2",
   "provenance": []
  },
  "kernelspec": {
   "display_name": "Python 3",
   "name": "python3"
  },
  "language_info": {
   "name": "python"
  },
  "widgets": {
   "application/vnd.jupyter.widget-state+json": {
    "8f1cf2bf4b4146c09ec1de7451ffef68": {
     "model_module": "@jupyter-widgets/controls",
     "model_module_version": "1.5.0",
     "model_name": "ButtonStyleModel",
     "state": {
      "_model_module": "@jupyter-widgets/controls",
      "_model_module_version": "1.5.0",
      "_model_name": "ButtonStyleModel",
      "_view_count": null,
      "_view_module": "@jupyter-widgets/base",
      "_view_module_version": "1.2.0",
      "_view_name": "StyleView",
      "button_color": null,
      "font_weight": ""
     }
    },
    "948c1ebd6cbe453d863f7bf310b57100": {
     "model_module": "@jupyter-widgets/controls",
     "model_module_version": "1.5.0",
     "model_name": "FileUploadModel",
     "state": {
      "_counter": 2,
      "_dom_classes": [],
      "_model_module": "@jupyter-widgets/controls",
      "_model_module_version": "1.5.0",
      "_model_name": "FileUploadModel",
      "_view_count": null,
      "_view_module": "@jupyter-widgets/controls",
      "_view_module_version": "1.5.0",
      "_view_name": "FileUploadView",
      "accept": "image/*",
      "button_style": "",
      "data": [
       null
      ],
      "description": "Upload",
      "description_tooltip": null,
      "disabled": false,
      "error": "",
      "icon": "upload",
      "layout": "IPY_MODEL_ef266239300f47c2b86a8d7d5ac1b428",
      "metadata": [
       {
        "lastModified": 1728659966818,
        "name": "md.jpg.webp",
        "size": 20160,
        "type": "image/webp"
       }
      ],
      "multiple": false,
      "style": "IPY_MODEL_8f1cf2bf4b4146c09ec1de7451ffef68"
     }
    },
    "ef266239300f47c2b86a8d7d5ac1b428": {
     "model_module": "@jupyter-widgets/base",
     "model_module_version": "1.2.0",
     "model_name": "LayoutModel",
     "state": {
      "_model_module": "@jupyter-widgets/base",
      "_model_module_version": "1.2.0",
      "_model_name": "LayoutModel",
      "_view_count": null,
      "_view_module": "@jupyter-widgets/base",
      "_view_module_version": "1.2.0",
      "_view_name": "LayoutView",
      "align_content": null,
      "align_items": null,
      "align_self": null,
      "border": null,
      "bottom": null,
      "display": null,
      "flex": null,
      "flex_flow": null,
      "grid_area": null,
      "grid_auto_columns": null,
      "grid_auto_flow": null,
      "grid_auto_rows": null,
      "grid_column": null,
      "grid_gap": null,
      "grid_row": null,
      "grid_template_areas": null,
      "grid_template_columns": null,
      "grid_template_rows": null,
      "height": null,
      "justify_content": null,
      "justify_items": null,
      "left": null,
      "margin": null,
      "max_height": null,
      "max_width": null,
      "min_height": null,
      "min_width": null,
      "object_fit": null,
      "object_position": null,
      "order": null,
      "overflow": null,
      "overflow_x": null,
      "overflow_y": null,
      "padding": null,
      "right": null,
      "top": null,
      "visibility": null,
      "width": null
     }
    }
   }
  }
 },
 "nbformat": 4,
 "nbformat_minor": 0
}
